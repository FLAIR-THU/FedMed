{
 "cells": [
  {
   "cell_type": "code",
   "execution_count": 1,
   "outputs": [],
   "source": [
    "import tensorflow as tf\n",
    "from tensorflow import keras\n",
    "from tensorflow.keras import layers\n",
    "from tensorflow.keras.utils import plot_model\n",
    "from tensorflow.keras.models import Model, load_model\n",
    "from tensorflow.keras.models import model_from_json\n",
    "import json"
   ],
   "metadata": {
    "collapsed": false,
    "pycharm": {
     "name": "#%%\n"
    }
   }
  },
  {
   "cell_type": "markdown",
   "source": [
    "# 钻石数据研发的例子"
   ],
   "metadata": {
    "collapsed": false,
    "pycharm": {
     "name": "#%% md\n"
    }
   }
  },
  {
   "cell_type": "code",
   "execution_count": 2,
   "outputs": [],
   "source": [
    "\n",
    "from tensorflow import keras\n",
    "from tensorflow.keras import layers\n",
    "from tensorflow.keras import initializers"
   ],
   "metadata": {
    "collapsed": false,
    "pycharm": {
     "name": "#%%\n"
    }
   }
  },
  {
   "cell_type": "code",
   "execution_count": 3,
   "outputs": [],
   "source": [
    "import pandas as pd\n",
    "data_dir ='/home/cjp/dev/CNN'\n",
    "ratings_file = data_dir + \"/zs_cnn.csv\"\n",
    "df = pd.read_csv(ratings_file)\n"
   ],
   "metadata": {
    "collapsed": false,
    "pycharm": {
     "name": "#%%\n"
    }
   }
  },
  {
   "cell_type": "code",
   "execution_count": 4,
   "outputs": [
    {
     "name": "stdout",
     "output_type": "stream",
     "text": [
      "Model: \"sequential\"\n",
      "_________________________________________________________________\n",
      "Layer (type)                 Output Shape              Param #   \n",
      "=================================================================\n",
      "reshape (Reshape)            (None, 30, 30, 3)         0         \n",
      "_________________________________________________________________\n",
      "conv2d (Conv2D)              (None, 28, 28, 8)         224       \n",
      "_________________________________________________________________\n",
      "max_pooling2d (MaxPooling2D) (None, 14, 14, 8)         0         \n",
      "_________________________________________________________________\n",
      "conv2d_1 (Conv2D)            (None, 12, 12, 16)        1168      \n",
      "_________________________________________________________________\n",
      "max_pooling2d_1 (MaxPooling2 (None, 6, 6, 16)          0         \n",
      "_________________________________________________________________\n",
      "flatten (Flatten)            (None, 576)               0         \n",
      "_________________________________________________________________\n",
      "dense (Dense)                (None, 8)                 4616      \n",
      "_________________________________________________________________\n",
      "dense_1 (Dense)              (None, 1)                 9         \n",
      "=================================================================\n",
      "Total params: 6,017\n",
      "Trainable params: 6,017\n",
      "Non-trainable params: 0\n",
      "_________________________________________________________________\n"
     ]
    }
   ],
   "source": [
    "column=df.columns\n",
    "column=column[2:]\n",
    "dtX=df[column].values\n",
    "dtY=df['y'].values\n",
    "train_indices=300\n",
    "x_train, x_test, y_train, y_test = (\n",
    "    dtX[:train_indices],\n",
    "    dtX[train_indices:],\n",
    "    dtY[:train_indices],\n",
    "    dtY[train_indices:],\n",
    ")\n",
    "input_shape= (2700,)\n",
    "md = keras.Sequential(\n",
    "    [\n",
    "        keras.Input(shape=input_shape),\n",
    "        layers.Reshape((30, 30,3), input_shape=input_shape),\n",
    "        layers.Conv2D(8, kernel_size=(3, 3), activation=\"relu\" ,bias_initializer=initializers.Ones()),\n",
    "        layers.MaxPooling2D(pool_size=(2, 2)),\n",
    "        layers.Conv2D(16, kernel_size=(3, 3), activation=\"relu\"),\n",
    "        layers.MaxPooling2D(pool_size=(2, 2)),\n",
    "        layers.Flatten(),\n",
    "        layers.Dense(8),\n",
    "        layers.Dense(1, activation=\"sigmoid\"),\n",
    "    ]\n",
    ")\n",
    "md.summary()"
   ],
   "metadata": {
    "collapsed": false,
    "pycharm": {
     "name": "#%%\n"
    }
   }
  },
  {
   "cell_type": "code",
   "execution_count": 5,
   "outputs": [
    {
     "name": "stdout",
     "output_type": "stream",
     "text": [
      "Epoch 1/20\n",
      "2/2 [==============================] - 0s 109ms/step - loss: 0.9663 - accuracy: 0.4778 - val_loss: 0.6803 - val_accuracy: 0.6000\n",
      "Epoch 2/20\n",
      "2/2 [==============================] - 0s 20ms/step - loss: 0.7707 - accuracy: 0.5222 - val_loss: 0.6982 - val_accuracy: 0.6000\n",
      "Epoch 3/20\n",
      "2/2 [==============================] - 0s 18ms/step - loss: 0.7459 - accuracy: 0.5222 - val_loss: 0.6638 - val_accuracy: 0.7333\n",
      "Epoch 4/20\n",
      "2/2 [==============================] - 0s 17ms/step - loss: 0.6880 - accuracy: 0.6111 - val_loss: 0.7711 - val_accuracy: 0.4000\n",
      "Epoch 5/20\n",
      "2/2 [==============================] - 0s 15ms/step - loss: 0.7232 - accuracy: 0.4778 - val_loss: 0.7402 - val_accuracy: 0.4000\n",
      "Epoch 6/20\n",
      "2/2 [==============================] - 0s 17ms/step - loss: 0.6936 - accuracy: 0.4778 - val_loss: 0.6644 - val_accuracy: 0.7000\n",
      "Epoch 7/20\n",
      "2/2 [==============================] - 0s 16ms/step - loss: 0.6562 - accuracy: 0.6778 - val_loss: 0.6324 - val_accuracy: 0.6000\n",
      "Epoch 8/20\n",
      "2/2 [==============================] - 0s 34ms/step - loss: 0.6585 - accuracy: 0.5370 - val_loss: 0.6308 - val_accuracy: 0.6000\n",
      "Epoch 9/20\n",
      "2/2 [==============================] - 0s 17ms/step - loss: 0.6689 - accuracy: 0.5222 - val_loss: 0.6234 - val_accuracy: 0.6000\n",
      "Epoch 10/20\n",
      "2/2 [==============================] - 0s 17ms/step - loss: 0.6545 - accuracy: 0.5370 - val_loss: 0.6137 - val_accuracy: 0.6667\n",
      "Epoch 11/20\n",
      "2/2 [==============================] - 0s 16ms/step - loss: 0.6303 - accuracy: 0.6481 - val_loss: 0.6324 - val_accuracy: 0.8000\n",
      "Epoch 12/20\n",
      "2/2 [==============================] - 0s 15ms/step - loss: 0.6282 - accuracy: 0.7407 - val_loss: 0.6388 - val_accuracy: 0.6333\n",
      "Epoch 13/20\n",
      "2/2 [==============================] - 0s 15ms/step - loss: 0.6185 - accuracy: 0.7037 - val_loss: 0.6066 - val_accuracy: 0.8667\n",
      "Epoch 14/20\n",
      "2/2 [==============================] - 0s 16ms/step - loss: 0.6016 - accuracy: 0.8593 - val_loss: 0.5896 - val_accuracy: 0.7667\n",
      "Epoch 15/20\n",
      "2/2 [==============================] - 0s 15ms/step - loss: 0.5993 - accuracy: 0.7222 - val_loss: 0.5799 - val_accuracy: 0.7000\n",
      "Epoch 16/20\n",
      "2/2 [==============================] - 0s 16ms/step - loss: 0.5949 - accuracy: 0.6778 - val_loss: 0.5684 - val_accuracy: 0.7667\n",
      "Epoch 17/20\n",
      "2/2 [==============================] - 0s 18ms/step - loss: 0.5779 - accuracy: 0.7556 - val_loss: 0.5641 - val_accuracy: 0.8667\n",
      "Epoch 18/20\n",
      "2/2 [==============================] - 0s 18ms/step - loss: 0.5606 - accuracy: 0.8815 - val_loss: 0.5726 - val_accuracy: 0.8667\n",
      "Epoch 19/20\n",
      "2/2 [==============================] - 0s 14ms/step - loss: 0.5526 - accuracy: 0.9222 - val_loss: 0.5563 - val_accuracy: 0.8667\n",
      "Epoch 20/20\n",
      "2/2 [==============================] - 0s 15ms/step - loss: 0.5383 - accuracy: 0.9000 - val_loss: 0.5286 - val_accuracy: 0.8667\n"
     ]
    },
    {
     "data": {
      "text/plain": "<tensorflow.python.keras.callbacks.History at 0x7ff5e7155f60>"
     },
     "execution_count": 5,
     "metadata": {},
     "output_type": "execute_result"
    }
   ],
   "source": [
    "batch_size = 200\n",
    "epochs = 20\n",
    "\n",
    "md.compile(loss=\"binary_crossentropy\", optimizer=\"adam\", metrics=[\"accuracy\"])\n",
    "\n",
    "md.fit(x_train, y_train, batch_size=batch_size, epochs=epochs, validation_split=0.1)"
   ],
   "metadata": {
    "collapsed": false,
    "pycharm": {
     "name": "#%%\n"
    }
   }
  },
  {
   "cell_type": "code",
   "execution_count": 6,
   "outputs": [
    {
     "name": "stdout",
     "output_type": "stream",
     "text": [
      "Test loss: 0.5301304459571838\n",
      "Test accuracy: 0.8717948794364929\n"
     ]
    }
   ],
   "source": [
    "score = md.evaluate(x_test, y_test, verbose=0)\n",
    "print(\"Test loss:\", score[0])\n",
    "print(\"Test accuracy:\", score[1])"
   ],
   "metadata": {
    "collapsed": false,
    "pycharm": {
     "name": "#%%\n"
    }
   }
  },
  {
   "cell_type": "code",
   "execution_count": 8,
   "outputs": [],
   "source": [
    "from fate_utils.nnUtils import saveModelInfo\n",
    "saveModelInfo(md, name='zs_cnn', dir=f'/home/jupyter/modelInfo')\n",
    "# backMe(__file__, f'/home/jupyter/{os.path.basename(__file__).split(\".\")[0]}.py')"
   ],
   "metadata": {
    "collapsed": false,
    "pycharm": {
     "name": "#%%\n"
    }
   }
  }
 ],
 "metadata": {
  "interpreter": {
   "hash": "ad4309918fa4cd1705b305e369b2f64d901b1851e9144aef7b9b07ea3efcb1bb"
  },
  "kernelspec": {
   "display_name": "Python 3.6.15 64-bit ('py36': venv)",
   "name": "python3"
  },
  "language_info": {
   "codemirror_mode": {
    "name": "ipython",
    "version": 3
   },
   "file_extension": ".py",
   "mimetype": "text/x-python",
   "name": "python",
   "nbconvert_exporter": "python",
   "pygments_lexer": "ipython3",
   "version": "3.6.15"
  }
 },
 "nbformat": 4,
 "nbformat_minor": 4
}